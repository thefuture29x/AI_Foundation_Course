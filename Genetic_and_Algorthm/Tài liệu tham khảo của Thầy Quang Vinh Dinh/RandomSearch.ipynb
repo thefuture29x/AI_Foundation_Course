{
 "cells": [
  {
   "cell_type": "code",
   "execution_count": 3,
   "metadata": {},
   "outputs": [
    {
     "name": "stdout",
     "output_type": "stream",
     "text": [
      "0\n",
      "0\n",
      "1\n",
      "0\n",
      "0\n",
      "0\n",
      "0\n",
      "1\n",
      "0\n",
      "1\n"
     ]
    }
   ],
   "source": [
    "import random\n",
    "\n",
    "for _ in range(10):    \n",
    "    if random.random() < 0.5:        \n",
    "        rand_int = 0\n",
    "    else:\n",
    "        rand_int = 1\n",
    "    print(rand_int)"
   ]
  },
  {
   "cell_type": "code",
   "execution_count": 8,
   "metadata": {},
   "outputs": [
    {
     "name": "stdout",
     "output_type": "stream",
     "text": [
      "[0, 1, 1, 1, 0, 1, 1, 1, 0, 1]\n",
      "7\n"
     ]
    }
   ],
   "source": [
    "import random\n",
    "\n",
    "def random_01():\n",
    "    if random.random() < 0.5:        \n",
    "        rand_int = 0\n",
    "    else:\n",
    "        rand_int = 1\n",
    "        \n",
    "    return rand_int\n",
    "\n",
    "# fitness function\n",
    "def secret(vector):\n",
    "    return sum(vector)\n",
    "\n",
    "# vector length\n",
    "n = 10\n",
    "vector = [random_01() for _ in range(n)]\n",
    "print(vector)\n",
    "\n",
    "fitness = secret(vector)\n",
    "print(fitness)"
   ]
  },
  {
   "cell_type": "code",
   "execution_count": 10,
   "metadata": {},
   "outputs": [
    {
     "name": "stdout",
     "output_type": "stream",
     "text": [
      "<class 'list'>\n",
      "[0, 0, 0, 0, 0, 0, 0, 0, 0, 0]\n"
     ]
    }
   ],
   "source": [
    "var = [0]*10\n",
    "print(type(var))\n",
    "print(var)"
   ]
  },
  {
   "cell_type": "code",
   "execution_count": null,
   "metadata": {},
   "outputs": [],
   "source": []
  },
  {
   "cell_type": "code",
   "execution_count": null,
   "metadata": {},
   "outputs": [],
   "source": []
  },
  {
   "cell_type": "code",
   "execution_count": 27,
   "metadata": {},
   "outputs": [
    {
     "name": "stdout",
     "output_type": "stream",
     "text": [
      "[1, 0, 0, 1, 0, 1, 1, 1, 1, 1] 7\n",
      "[1, 1, 0, 1, 1, 1, 1, 1, 0, 0] 7\n",
      "[0, 1, 0, 0, 0, 0, 0, 0, 1, 0] 2\n",
      "[0, 1, 1, 0, 1, 0, 1, 0, 0, 1] 5\n",
      "[0, 1, 1, 1, 0, 1, 0, 0, 1, 0] 5\n",
      "[1, 0, 0, 1, 0, 0, 0, 0, 1, 1] 4\n",
      "[1, 1, 0, 1, 0, 0, 0, 1, 1, 0] 5\n",
      "[0, 1, 1, 1, 0, 0, 0, 0, 1, 0] 4\n"
     ]
    }
   ],
   "source": [
    "# generate m vectors randomly\n",
    "import random\n",
    "\n",
    "def generate_vectors(n=10, m=8):\n",
    "    vectors = [[0]*n for _ in range(m)]\n",
    "\n",
    "    for i in range(m):\n",
    "        for j in range(n):\n",
    "            if random.random() >= 0.5:\n",
    "                vectors[i][j] = 1 \n",
    "            \n",
    "    return vectors\n",
    "\n",
    "# fitness function\n",
    "def secret(vector):\n",
    "    return sum(vector)\n",
    "\n",
    "vectors = generate_vectors()\n",
    "for i in range(8):\n",
    "    print(vectors[i], secret(vectors[i]))"
   ]
  },
  {
   "cell_type": "code",
   "execution_count": 16,
   "metadata": {},
   "outputs": [],
   "source": [
    "# fitness function\n",
    "scores  = [sum(v) for v in vectors]"
   ]
  },
  {
   "cell_type": "code",
   "execution_count": null,
   "metadata": {},
   "outputs": [],
   "source": []
  },
  {
   "cell_type": "code",
   "execution_count": null,
   "metadata": {},
   "outputs": [],
   "source": []
  },
  {
   "cell_type": "code",
   "execution_count": 36,
   "metadata": {},
   "outputs": [
    {
     "name": "stdout",
     "output_type": "stream",
     "text": [
      "30\n",
      "29\n",
      "28\n",
      "29\n",
      "36\n",
      "30\n",
      "32\n",
      "30\n",
      "36\n",
      "28\n",
      "27\n",
      "29\n",
      "31\n",
      "26\n",
      "29\n"
     ]
    }
   ],
   "source": [
    "# Generate different groups of m vectors\n",
    "import random\n",
    "\n",
    "def generate_vectors(n=10, m=8):\n",
    "    vectors = [[0]*n for _ in range(m)]\n",
    "\n",
    "    for i in range(m):\n",
    "        for j in range(n):\n",
    "            if random.random() >= 0.5:\n",
    "                vectors[i][j] = 1 \n",
    "            \n",
    "    return vectors\n",
    "\n",
    "# fitness function\n",
    "def secret(vector):\n",
    "    return sum(vector)\n",
    "\n",
    "# k loops\n",
    "k = 15\n",
    "for _ in range(k):\n",
    "    vectors = generate_vectors()\n",
    "    scores  = [secret(v) for v in vectors]\n",
    "    max_score = max(scores)\n",
    "    print(max_score)"
   ]
  },
  {
   "cell_type": "code",
   "execution_count": null,
   "metadata": {},
   "outputs": [],
   "source": []
  },
  {
   "cell_type": "code",
   "execution_count": null,
   "metadata": {},
   "outputs": [],
   "source": []
  },
  {
   "cell_type": "code",
   "execution_count": null,
   "metadata": {},
   "outputs": [],
   "source": [
    "# random search\n",
    "\n",
    "import matplotlib\n",
    "import matplotlib.pyplot as plt\n",
    "import matplotlib.animation as animation\n",
    "from IPython.display import HTML\n",
    "import random\n",
    "\n",
    "font = {'size'   : 14}\n",
    "matplotlib.rc('font', **font)\n",
    "\n",
    "def generate_vectors(n=10, m=8):\n",
    "    vectors = [[0]*n for _ in range(m)]\n",
    "\n",
    "    for i in range(m):\n",
    "        for j in range(n):\n",
    "            if random.random() >= 0.5:\n",
    "                vectors[i][j] = 1 \n",
    "            \n",
    "    return vectors\n",
    "            \n",
    "def update_plot(i):        \n",
    "    plt.cla()\n",
    "            \n",
    "    vectors = generate_vectors()\n",
    "    scores  = [sum(v) for v in vectors]\n",
    "    max_score = max(scores)\n",
    "    \n",
    "    ax.set_ylim((0, 10))\n",
    "    plt.bar(y_pos, scores, align='center', alpha=0.9)\n",
    "    plt.xticks(y_pos, objects)\n",
    "    ax.text(0, 9, 'Max Score: %d' % max_score)\n",
    "\n",
    "objects = ('v1', 'v2', 'v3', 'v4', 'v5', 'v6', 'v7', 'v8')\n",
    "y_pos   = list(range(8))\n",
    "fig, ax = plt.subplots(figsize=(12, 7))\n",
    "ax.set_ylim((0, 10))\n",
    "plt.ylabel('Giá trị score')\n",
    "plt.xlabel('Các vector v')\n",
    "plt.title('Giá trị score cho các vector v dùng random search')\n",
    "\n",
    "vectors = generate_vectors()\n",
    "scores  = [sum(v) for v in vectors]\n",
    "max_score = max(scores)\n",
    "\n",
    "plt.bar(y_pos, scores, align='center', alpha=0.9)\n",
    "plt.xticks(y_pos, objects)\n",
    "ax.text(0, 9, 'Max Score: %d' % max_score)\n",
    "\n",
    "#plt.show()\n",
    "ani = animation.FuncAnimation(fig, update_plot, interval=2000, frames=range(10), fargs=())    \n",
    "HTML(ani.to_html5_video())"
   ]
  },
  {
   "cell_type": "code",
   "execution_count": null,
   "metadata": {},
   "outputs": [],
   "source": []
  },
  {
   "cell_type": "code",
   "execution_count": null,
   "metadata": {},
   "outputs": [],
   "source": [
    "# random space\n",
    "import matplotlib.pyplot as plt\n",
    "import numpy as np\n",
    "import matplotlib.animation as animation\n",
    "from IPython.display import HTML\n",
    "from matplotlib.colors import LogNorm\n",
    "\n",
    "def update_plot(i):    \n",
    "    x, y = (np.random.random((2, numpoints)) - 0.5) * 120\n",
    "    plt.cla()\n",
    "    \n",
    "    #ax.set_xlabel('$x$')\n",
    "    #ax.set_ylabel('$y$')\n",
    "    \n",
    "    ax.get_xaxis().set_ticks([])\n",
    "    ax.get_yaxis().set_ticks([])\n",
    "\n",
    "    ax.set_xlim((xmin, xmax))\n",
    "    ax.set_ylim((ymin, ymax))\n",
    "    ax.contour(x1, y1, z1, levels=np.logspace(0, 5, 35), norm=LogNorm(), cmap=plt.cm.jet, zorder=1)\n",
    "    ax.scatter(x, y, s=100, zorder=2)\n",
    "\n",
    "numframes = 10\n",
    "numpoints = 8\n",
    "color_data = np.random.random((numframes, numpoints))\n",
    "x, y = (np.random.random((2, numpoints)) - 0.5) * 100\n",
    "\n",
    "xmin, xmax, xstep = -60, 60, .2\n",
    "ymin, ymax, ystep = -60, 60, .2\n",
    "\n",
    "f  = lambda x1, y1: x1**2 + y1**2\n",
    "x1, y1 = np.meshgrid(np.arange(xmin, xmax + xstep, xstep), np.arange(ymin, ymax + ystep, ystep))\n",
    "z1 = f(x1, y1)\n",
    "\n",
    "\n",
    "fig, ax = plt.subplots(figsize=(10, 6))\n",
    "ax.contour(x1, y1, z1, levels=np.logspace(0, 5, 35), norm=LogNorm(), cmap=plt.cm.jet, zorder=1)\n",
    "#ax.set_xlabel('$x1$')\n",
    "#ax.set_ylabel('$x2$')\n",
    "\n",
    "ax.set_xlim((xmin, xmax))\n",
    "ax.set_ylim((ymin, ymax))\n",
    "\n",
    "ax.get_xaxis().set_ticks([])\n",
    "ax.get_yaxis().set_ticks([])\n",
    "\n",
    "ax.scatter(x, y, s=100, zorder=2)\n",
    "\n",
    "#plt.show()\n",
    "ani = animation.FuncAnimation(fig, update_plot, interval=2000, frames=range(numframes), fargs=())    \n",
    "HTML(ani.to_html5_video())\n",
    "#ani.save('random_search_idea.gif', writer='imagemagick', fps=0.6)"
   ]
  },
  {
   "cell_type": "code",
   "execution_count": null,
   "metadata": {},
   "outputs": [],
   "source": []
  },
  {
   "cell_type": "code",
   "execution_count": null,
   "metadata": {},
   "outputs": [],
   "source": []
  }
 ],
 "metadata": {
  "kernelspec": {
   "display_name": "Python 3",
   "language": "python",
   "name": "python3"
  },
  "language_info": {
   "codemirror_mode": {
    "name": "ipython",
    "version": 3
   },
   "file_extension": ".py",
   "mimetype": "text/x-python",
   "name": "python",
   "nbconvert_exporter": "python",
   "pygments_lexer": "ipython3",
   "version": "3.7.3"
  }
 },
 "nbformat": 4,
 "nbformat_minor": 2
}
