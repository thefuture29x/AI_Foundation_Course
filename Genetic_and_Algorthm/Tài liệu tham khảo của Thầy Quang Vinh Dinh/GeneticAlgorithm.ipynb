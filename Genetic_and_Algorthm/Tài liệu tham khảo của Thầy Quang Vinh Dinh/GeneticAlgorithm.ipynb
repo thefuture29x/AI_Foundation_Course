{
 "cells": [
  {
   "cell_type": "code",
   "execution_count": 9,
   "metadata": {},
   "outputs": [
    {
     "name": "stdout",
     "output_type": "stream",
     "text": [
      "2 0\n",
      "2 1\n",
      "0 2\n",
      "0 3\n",
      "3 3\n",
      "3 3\n",
      "0 2\n",
      "0 3\n",
      "2 0\n",
      "2 2\n",
      "3 3\n",
      "3 1\n",
      "3 2\n",
      "0 3\n",
      "0 2\n",
      "3 2\n",
      "1 2\n",
      "2 3\n",
      "0 1\n",
      "3 0\n"
     ]
    }
   ],
   "source": [
    "import random\n",
    "\n",
    "for _ in range(20):\n",
    "    rand1 = random.randint(0, 9)\n",
    "    rand2 = random.randint(0, 9)\n",
    "    print(rand1, rand2)"
   ]
  },
  {
   "cell_type": "code",
   "execution_count": null,
   "metadata": {},
   "outputs": [],
   "source": []
  },
  {
   "cell_type": "code",
   "execution_count": 4,
   "metadata": {},
   "outputs": [
    {
     "name": "stdout",
     "output_type": "stream",
     "text": [
      "[0, 1, 0, 1, 0, 1]\n"
     ]
    }
   ],
   "source": [
    "# create individual\n",
    "import random\n",
    "\n",
    "n = 6   # size of individual (chromosome)\n",
    "\n",
    "def generate_random_value():\n",
    "    return random.randint(0, 1)\n",
    "\n",
    "def create_individual():\n",
    "    return [generate_random_value() for _ in range(n)]\n",
    "\n",
    "individual = create_individual()\n",
    "print(individual)"
   ]
  },
  {
   "cell_type": "code",
   "execution_count": null,
   "metadata": {},
   "outputs": [],
   "source": []
  },
  {
   "cell_type": "code",
   "execution_count": null,
   "metadata": {},
   "outputs": [],
   "source": []
  },
  {
   "cell_type": "code",
   "execution_count": 5,
   "metadata": {},
   "outputs": [
    {
     "name": "stdout",
     "output_type": "stream",
     "text": [
      "[1, 1, 1, 1, 0, 1]\n",
      "[1, 0, 0, 0, 1, 1]\n",
      "[1, 1, 0, 0, 0, 0]\n",
      "[0, 0, 0, 0, 0, 0]\n",
      "[0, 0, 1, 1, 1, 1]\n",
      "[1, 1, 1, 0, 1, 1]\n",
      "[0, 0, 1, 0, 1, 0]\n",
      "[1, 0, 1, 1, 1, 1]\n",
      "[1, 1, 1, 0, 0, 1]\n",
      "[1, 1, 0, 0, 0, 0]\n"
     ]
    }
   ],
   "source": [
    "# create population\n",
    "import random\n",
    "\n",
    "n = 6   # size of individual (chromosome)\n",
    "m = 10  # size of population\n",
    "\n",
    "def generate_random_value():\n",
    "    return random.randint(0, 1)\n",
    "\n",
    "def create_individual():\n",
    "    return [generate_random_value() for _ in range(n)]\n",
    "\n",
    "population = [create_individual() for _ in range(m)]\n",
    "\n",
    "# print population\n",
    "for individual in population:\n",
    "    print(individual)"
   ]
  },
  {
   "cell_type": "code",
   "execution_count": null,
   "metadata": {},
   "outputs": [],
   "source": []
  },
  {
   "cell_type": "code",
   "execution_count": null,
   "metadata": {},
   "outputs": [],
   "source": [
    "# crossover\n",
    "\n",
    "def crossover(individual1, individual2, crossover_rate = 0.9):\n",
    "    individual1_new = individual1.copy()\n",
    "    individual2_new = individual2.copy()\n",
    "    \n",
    "    for i in range(n):\n",
    "        if random.random() < crossover_rate:\n",
    "            individual1_new[i] = individual2[i]\n",
    "            individual2_new[i] = individual1[i] \n",
    "    \n",
    "    return individual1_new, individual2_new"
   ]
  },
  {
   "cell_type": "code",
   "execution_count": null,
   "metadata": {},
   "outputs": [],
   "source": []
  },
  {
   "cell_type": "code",
   "execution_count": null,
   "metadata": {},
   "outputs": [],
   "source": [
    "# mutate\n",
    "\n",
    "def mutate(individual, mutation_rate = 0.05):\n",
    "    individual_m = individual.copy()\n",
    "    \n",
    "    for i in range(n):\n",
    "        if random.random() < mutation_rate:\n",
    "            individual_m[i] = generate_random_value()\n",
    "        \n",
    "    return individual_m"
   ]
  },
  {
   "cell_type": "code",
   "execution_count": null,
   "metadata": {},
   "outputs": [],
   "source": []
  },
  {
   "cell_type": "code",
   "execution_count": null,
   "metadata": {},
   "outputs": [],
   "source": []
  },
  {
   "cell_type": "code",
   "execution_count": null,
   "metadata": {},
   "outputs": [],
   "source": []
  },
  {
   "cell_type": "code",
   "execution_count": null,
   "metadata": {},
   "outputs": [],
   "source": [
    "#selection\n",
    "\n",
    "def selection(sorted_old_population):    \n",
    "    index1 = random.randint(0, m-1)    \n",
    "    while True:\n",
    "        index2 = random.randint(0, m-1)    \n",
    "        if (index2 != index1):\n",
    "            break\n",
    "            \n",
    "    individual_s = sorted_old_population[index1]\n",
    "    if index2 > index1:\n",
    "        individual_s = sorted_old_population[index2]\n",
    "    \n",
    "    return individual_s "
   ]
  },
  {
   "cell_type": "code",
   "execution_count": null,
   "metadata": {},
   "outputs": [],
   "source": []
  },
  {
   "cell_type": "code",
   "execution_count": null,
   "metadata": {},
   "outputs": [],
   "source": []
  },
  {
   "cell_type": "code",
   "execution_count": null,
   "metadata": {},
   "outputs": [],
   "source": [
    "#selection\n",
    "\n",
    "def secret(vector):\n",
    "    return sum(vector)\n",
    "\n",
    "# sorted_old_population sort  -  increase\n",
    "def selection(sorted_old_population):    \n",
    "    index1 = random.randint(0, m-1)    \n",
    "    while True:\n",
    "        index2 = random.randint(0, m-1)    \n",
    "        if (index2 != index1):\n",
    "            break\n",
    "            \n",
    "    individual_s = sorted_old_population[index1]\n",
    "    if index2 > index1:\n",
    "        individual_s = sorted_old_population[index2]\n",
    "    \n",
    "    return individual_s "
   ]
  },
  {
   "cell_type": "code",
   "execution_count": null,
   "metadata": {},
   "outputs": [],
   "source": []
  },
  {
   "cell_type": "code",
   "execution_count": null,
   "metadata": {},
   "outputs": [],
   "source": []
  },
  {
   "cell_type": "code",
   "execution_count": null,
   "metadata": {},
   "outputs": [],
   "source": []
  }
 ],
 "metadata": {
  "kernelspec": {
   "display_name": "Python 3",
   "language": "python",
   "name": "python3"
  },
  "language_info": {
   "codemirror_mode": {
    "name": "ipython",
    "version": 3
   },
   "file_extension": ".py",
   "mimetype": "text/x-python",
   "name": "python",
   "nbconvert_exporter": "python",
   "pygments_lexer": "ipython3",
   "version": "3.7.3"
  }
 },
 "nbformat": 4,
 "nbformat_minor": 2
}
