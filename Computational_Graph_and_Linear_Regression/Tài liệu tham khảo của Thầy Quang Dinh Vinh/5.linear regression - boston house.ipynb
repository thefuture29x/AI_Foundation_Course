{
 "cells": [
  {
   "cell_type": "code",
   "execution_count": 1,
   "metadata": {},
   "outputs": [],
   "source": [
    "# data\n",
    "import pandas as pd\n",
    "import numpy as np\n",
    "import matplotlib.pyplot as plt\n",
    "\n",
    "\n",
    "data = pd.read_csv('BostonHousing.csv')\n",
    "\n",
    "def normal(x:list):\n",
    "    maxi = max(x)\n",
    "    mini = min(x)\n",
    "    avg = np.mean(x)\n",
    "    new = [(i-avg)/(maxi-mini) for i in x ]\n",
    "    \n",
    "    return new\n",
    "\n",
    "df = data.copy()\n",
    "df = df.apply(normal, axis=0)\n",
    "\n",
    "Xd = df.drop(columns=['medv'])\n",
    "Xd.insert(0, 'X0', 1) # bias \n",
    "\n",
    "# numpy array format\n",
    "y = df.medv.values\n",
    "y = np.expand_dims(y, axis=1)\n",
    "\n",
    "X_b = Xd.values\n",
    "\n",
    "# sample size\n",
    "m = len(df.index)\n",
    "n = X_b.shape[1]\n",
    "theta = np.ones(n)"
   ]
  },
  {
   "cell_type": "code",
   "execution_count": 2,
   "metadata": {},
   "outputs": [
    {
     "name": "stdout",
     "output_type": "stream",
     "text": [
      "(506, 14)\n",
      "(506, 1)\n"
     ]
    }
   ],
   "source": [
    "def normal(x:list):\n",
    "    maxi = max(x)\n",
    "    mini = min(x)\n",
    "    avg = np.mean(x)\n",
    "    new = [(i-avg)/(maxi-mini) for i in x ]\n",
    "    \n",
    "    return new\n",
    "\n",
    "df = data.copy()\n",
    "df = df.apply(normal, axis=0)\n",
    "\n",
    "Xd = df.drop(columns=['medv'])\n",
    "Xd.insert(0, 'X0', 1) # bias \n",
    "\n",
    "# numpy array format\n",
    "y = df.medv.values\n",
    "y = np.expand_dims(y, axis=1)\n",
    "\n",
    "X_b = Xd.values\n",
    "\n",
    "# sample size\n",
    "m = len(df.index)\n",
    "n = X_b.shape[1]\n",
    "theta = np.ones(n)\n",
    "\n",
    "\n",
    "print(X_b.shape)\n",
    "print(y.shape)"
   ]
  },
  {
   "cell_type": "code",
   "execution_count": 3,
   "metadata": {},
   "outputs": [
    {
     "data": {
      "image/png": "[encoded data removed]",
      "text/plain": [
       "<Figure size 432x288 with 1 Axes>"
      ]
     },
     "metadata": {
      "needs_background": "light"
     },
     "output_type": "display_data"
    }
   ],
   "source": [
    "def batch_gradient_descent():\n",
    "    n_iterations = 500\n",
    "    learning_rate = 0.01\n",
    "    \n",
    "    # khởi tạo giá trị tham số\n",
    "    thetas = np.random.randn(14, 1)\n",
    "    thetas_path = [thetas]\n",
    "    losses = []\n",
    "    \n",
    "    for i in range(n_iterations):\n",
    "        # tính output\n",
    "        output = X_b.dot(thetas)\n",
    "        \n",
    "        # tính loss\n",
    "        loss = (output - y)**2        \n",
    "                \n",
    "        # tính đạo hàm cho loss\n",
    "        loss_grd = 2*(output - y)/m\n",
    "        \n",
    "        # tính đạo hàm cho các tham số\n",
    "        gradients = X_b.T.dot(loss_grd)\n",
    "        \n",
    "        # cập nhật tham số\n",
    "        thetas = thetas - learning_rate*gradients\n",
    "        thetas_path.append(thetas)\n",
    "        \n",
    "        mean_loss = np.sum(loss)/m\n",
    "        losses.append(mean_loss)\n",
    "\n",
    "    return thetas_path, losses\n",
    "\n",
    "bgd_thetas, losses = batch_gradient_descent()\n",
    "\n",
    "# in loss cho 100 sample đầu\n",
    "x_axis = list(range(500))\n",
    "plt.plot(x_axis,losses[:500], color=\"r\")\n",
    "plt.show()"
   ]
  },
  {
   "cell_type": "code",
   "execution_count": 4,
   "metadata": {},
   "outputs": [
    {
     "data": {
      "image/png": "[encoded data removed]",
      "text/plain": [
       "<Figure size 432x288 with 1 Axes>"
      ]
     },
     "metadata": {
      "needs_background": "light"
     },
     "output_type": "display_data"
    }
   ],
   "source": [
    "def mini_batch_gradient_descent():\n",
    "    n_iterations = 200\n",
    "    minibatch_size = 64\n",
    "    \n",
    "    thetas = np.random.randn(14, 1)\n",
    "    thetas_path = [thetas]    \n",
    "    losses = []\n",
    "    \n",
    "    for epoch in range(n_iterations):\n",
    "        shuffled_indices = np.random.permutation(m)\n",
    "        X_b_shuffled = X_b[shuffled_indices]\n",
    "        y_shuffled = y[shuffled_indices]\n",
    "                \n",
    "        for i in range(0, m, minibatch_size):\n",
    "            xi = X_b_shuffled[i:i+minibatch_size]\n",
    "            yi = y_shuffled[i:i+minibatch_size]\n",
    "            \n",
    "            # tính output \n",
    "            output = xi.dot(thetas)\n",
    "            \n",
    "            # tính loss\n",
    "            loss = (output - yi)**2\n",
    "            \n",
    "            # tính đạo hàm cho loss\n",
    "            loss_grd = 2*(output - yi)/minibatch_size\n",
    "            \n",
    "            # tính đạo hàm cho các tham số\n",
    "            gradients = xi.T.dot(loss_grd)\n",
    "            \n",
    "            # cập nhật tham số\n",
    "            learning_rate = 0.01\n",
    "            thetas = thetas - learning_rate*gradients\n",
    "            thetas_path.append(thetas)\n",
    "            \n",
    "            loss_mean = np.sum(loss)/minibatch_size\n",
    "            losses.append(loss_mean)\n",
    "\n",
    "    return thetas_path, losses\n",
    "\n",
    "mbgd_thetas, losses = mini_batch_gradient_descent()\n",
    "\n",
    "# in loss cho 100 sample đầu\n",
    "x_axis = list(range(100))\n",
    "plt.plot(x_axis,losses[:100], color=\"r\")\n",
    "plt.show()"
   ]
  },
  {
   "cell_type": "code",
   "execution_count": 5,
   "metadata": {},
   "outputs": [
    {
     "data": {
      "image/png": "[encoded data removed]",
      "text/plain": [
       "<Figure size 432x288 with 1 Axes>"
      ]
     },
     "metadata": {
      "needs_background": "light"
     },
     "output_type": "display_data"
    }
   ],
   "source": [
    "def stochastic_gradient_descent():\n",
    "    n_epochs = 50\n",
    "    learning_rate = 0.01\n",
    "    \n",
    "    # khởi tạo giá trị tham số\n",
    "    thetas = np.random.randn(14, 1)\n",
    "    \n",
    "    thetas_path = [thetas]\n",
    "    losses = []\n",
    "    \n",
    "    for epoch in range(n_epochs):\n",
    "        for i in range(m):\n",
    "            # lấy ngẫu nhiên 1 sample\n",
    "            random_index = np.random.randint(m)\n",
    "            xi = X_b[random_index:random_index+1]\n",
    "            yi = y[random_index:random_index+1]\n",
    "            \n",
    "            # tính output \n",
    "            oi = xi.dot(thetas)\n",
    "            \n",
    "            # tính loss li\n",
    "            li = (oi - yi)*(oi - yi) / 2\n",
    "            \n",
    "            # tính gradient cho loss\n",
    "            g_li = (oi - yi)\n",
    "            \n",
    "            # tính gradient \n",
    "            gradients = xi.T.dot(g_li)\n",
    "                        \n",
    "            # update giá trị theta\n",
    "            thetas = thetas - learning_rate*gradients\n",
    "            \n",
    "            # logging\n",
    "            thetas_path.append(thetas)            \n",
    "            losses.append(li[0][0])\n",
    "\n",
    "    return thetas_path, losses\n",
    "\n",
    "bgd_thetas, losses = stochastic_gradient_descent()\n",
    "\n",
    "# in loss cho 100 sample đầu\n",
    "x_axis = list(range(100))\n",
    "plt.plot(x_axis,losses[:100], color=\"r\")\n",
    "plt.show()\n",
    "\n",
    "#print(losses[:100])\n",
    "\n",
    "#plt.scatter(X, y)\n",
    "#data_y = X*bgd_thetas[-1][1]+ bgd_thetas[-1][0]\n",
    "#plt.plot(X,data_y, color=\"r\")\n",
    "#plt.show()"
   ]
  },
  {
   "cell_type": "code",
   "execution_count": null,
   "metadata": {},
   "outputs": [],
   "source": []
  }
 ],
 "metadata": {
  "kernelspec": {
   "display_name": "Python 3",
   "language": "python",
   "name": "python3"
  },
  "language_info": {
   "codemirror_mode": {
    "name": "ipython",
    "version": 3
   },
   "file_extension": ".py",
   "mimetype": "text/x-python",
   "name": "python",
   "nbconvert_exporter": "python",
   "pygments_lexer": "ipython3",
   "version": "3.7.3"
  }
 },
 "nbformat": 4,
 "nbformat_minor": 2
}
